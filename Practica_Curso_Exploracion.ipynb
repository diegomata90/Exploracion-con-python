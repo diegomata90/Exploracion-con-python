{
 "cells": [
  {
   "cell_type": "markdown",
   "id": "e08941e9",
   "metadata": {},
   "source": [
    "<img src='header_eda.jpg' width = 65%>"
   ]
  },
  {
   "cell_type": "markdown",
   "id": "eeefbfca",
   "metadata": {},
   "source": [
    "### Carga de Datos"
   ]
  },
  {
   "cell_type": "code",
   "execution_count": 1,
   "id": "85ab5385",
   "metadata": {},
   "outputs": [],
   "source": [
    "import pandas as pd\n",
    "import seaborn as sn\n",
    "import matplotlib.pyplot as plt\n",
    "import numpy as np\n",
    "\n",
    "#Cargar el dataset\n",
    "path =r'/home/diego/Win/Exploracion Datos Python/Proyecto/marketing_data.csv'\n",
    "\n",
    "datos = pd.read_csv(path, sep=';')\n"
   ]
  },
  {
   "cell_type": "markdown",
   "id": "5308f26f",
   "metadata": {},
   "source": [
    "### Consulta de Datos"
   ]
  },
  {
   "cell_type": "code",
   "execution_count": 2,
   "id": "ccf826fe",
   "metadata": {},
   "outputs": [
    {
     "data": {
      "text/html": [
       "<div>\n",
       "<style scoped>\n",
       "    .dataframe tbody tr th:only-of-type {\n",
       "        vertical-align: middle;\n",
       "    }\n",
       "\n",
       "    .dataframe tbody tr th {\n",
       "        vertical-align: top;\n",
       "    }\n",
       "\n",
       "    .dataframe thead th {\n",
       "        text-align: right;\n",
       "    }\n",
       "</style>\n",
       "<table border=\"1\" class=\"dataframe\">\n",
       "  <thead>\n",
       "    <tr style=\"text-align: right;\">\n",
       "      <th></th>\n",
       "      <th>ID</th>\n",
       "      <th>Year_Birth</th>\n",
       "      <th>Education</th>\n",
       "      <th>Marital_Status</th>\n",
       "      <th>Income</th>\n",
       "      <th>Kidhome</th>\n",
       "      <th>Teenhome</th>\n",
       "      <th>Dt_Customer</th>\n",
       "      <th>Recency</th>\n",
       "      <th>MntWines</th>\n",
       "      <th>...</th>\n",
       "      <th>NumStorePurchases</th>\n",
       "      <th>NumWebVisitsMonth</th>\n",
       "      <th>AcceptedCmp3</th>\n",
       "      <th>AcceptedCmp4</th>\n",
       "      <th>AcceptedCmp5</th>\n",
       "      <th>AcceptedCmp1</th>\n",
       "      <th>AcceptedCmp2</th>\n",
       "      <th>Response</th>\n",
       "      <th>Complain</th>\n",
       "      <th>Country</th>\n",
       "    </tr>\n",
       "  </thead>\n",
       "  <tbody>\n",
       "    <tr>\n",
       "      <th>0</th>\n",
       "      <td>0</td>\n",
       "      <td>1985</td>\n",
       "      <td>Graduation</td>\n",
       "      <td>Married</td>\n",
       "      <td>$70,951.00</td>\n",
       "      <td>0.0</td>\n",
       "      <td>0</td>\n",
       "      <td>05/04/2013</td>\n",
       "      <td>66</td>\n",
       "      <td>239</td>\n",
       "      <td>...</td>\n",
       "      <td>9</td>\n",
       "      <td>1</td>\n",
       "      <td>0</td>\n",
       "      <td>0</td>\n",
       "      <td>0</td>\n",
       "      <td>0</td>\n",
       "      <td>0</td>\n",
       "      <td>0</td>\n",
       "      <td>0</td>\n",
       "      <td>SA</td>\n",
       "    </tr>\n",
       "    <tr>\n",
       "      <th>1</th>\n",
       "      <td>1</td>\n",
       "      <td>1961</td>\n",
       "      <td>Graduation</td>\n",
       "      <td>Single</td>\n",
       "      <td>$57,091.00</td>\n",
       "      <td>0.0</td>\n",
       "      <td>0</td>\n",
       "      <td>6/15/14</td>\n",
       "      <td>0</td>\n",
       "      <td>464</td>\n",
       "      <td>...</td>\n",
       "      <td>7</td>\n",
       "      <td>5</td>\n",
       "      <td>0</td>\n",
       "      <td>0</td>\n",
       "      <td>0</td>\n",
       "      <td>0</td>\n",
       "      <td>1</td>\n",
       "      <td>1</td>\n",
       "      <td>0</td>\n",
       "      <td>CA</td>\n",
       "    </tr>\n",
       "    <tr>\n",
       "      <th>2</th>\n",
       "      <td>9</td>\n",
       "      <td>1975</td>\n",
       "      <td>Master</td>\n",
       "      <td>Single</td>\n",
       "      <td>$46,098.00</td>\n",
       "      <td>1.0</td>\n",
       "      <td>1</td>\n",
       "      <td>8/18/12</td>\n",
       "      <td>86</td>\n",
       "      <td>57</td>\n",
       "      <td>...</td>\n",
       "      <td>2</td>\n",
       "      <td>8</td>\n",
       "      <td>0</td>\n",
       "      <td>0</td>\n",
       "      <td>0</td>\n",
       "      <td>0</td>\n",
       "      <td>0</td>\n",
       "      <td>0</td>\n",
       "      <td>0</td>\n",
       "      <td>CA</td>\n",
       "    </tr>\n",
       "    <tr>\n",
       "      <th>3</th>\n",
       "      <td>13</td>\n",
       "      <td>1947</td>\n",
       "      <td>PhD</td>\n",
       "      <td>Widow</td>\n",
       "      <td>$25,358.00</td>\n",
       "      <td>0.0</td>\n",
       "      <td>1</td>\n",
       "      <td>7/22/13</td>\n",
       "      <td>57</td>\n",
       "      <td>19</td>\n",
       "      <td>...</td>\n",
       "      <td>3</td>\n",
       "      <td>6</td>\n",
       "      <td>0</td>\n",
       "      <td>0</td>\n",
       "      <td>0</td>\n",
       "      <td>0</td>\n",
       "      <td>0</td>\n",
       "      <td>0</td>\n",
       "      <td>0</td>\n",
       "      <td>SA</td>\n",
       "    </tr>\n",
       "    <tr>\n",
       "      <th>4</th>\n",
       "      <td>17</td>\n",
       "      <td>1971</td>\n",
       "      <td>PhD</td>\n",
       "      <td>Married</td>\n",
       "      <td>$60,491.00</td>\n",
       "      <td>0.0</td>\n",
       "      <td>1</td>\n",
       "      <td>09/06/2013</td>\n",
       "      <td>81</td>\n",
       "      <td>637</td>\n",
       "      <td>...</td>\n",
       "      <td>7</td>\n",
       "      <td>5</td>\n",
       "      <td>0</td>\n",
       "      <td>0</td>\n",
       "      <td>0</td>\n",
       "      <td>0</td>\n",
       "      <td>0</td>\n",
       "      <td>0</td>\n",
       "      <td>0</td>\n",
       "      <td>SP</td>\n",
       "    </tr>\n",
       "  </tbody>\n",
       "</table>\n",
       "<p>5 rows × 28 columns</p>\n",
       "</div>"
      ],
      "text/plain": [
       "   ID  Year_Birth   Education Marital_Status      Income   Kidhome  Teenhome  \\\n",
       "0   0        1985  Graduation        Married  $70,951.00       0.0         0   \n",
       "1   1        1961  Graduation         Single  $57,091.00       0.0         0   \n",
       "2   9        1975      Master         Single  $46,098.00       1.0         1   \n",
       "3  13        1947         PhD          Widow  $25,358.00       0.0         1   \n",
       "4  17        1971         PhD        Married  $60,491.00       0.0         1   \n",
       "\n",
       "  Dt_Customer  Recency  MntWines  ...  NumStorePurchases  NumWebVisitsMonth  \\\n",
       "0  05/04/2013       66       239  ...                  9                  1   \n",
       "1     6/15/14        0       464  ...                  7                  5   \n",
       "2     8/18/12       86        57  ...                  2                  8   \n",
       "3     7/22/13       57        19  ...                  3                  6   \n",
       "4  09/06/2013       81       637  ...                  7                  5   \n",
       "\n",
       "   AcceptedCmp3  AcceptedCmp4  AcceptedCmp5  AcceptedCmp1  AcceptedCmp2  \\\n",
       "0             0             0             0             0             0   \n",
       "1             0             0             0             0             1   \n",
       "2             0             0             0             0             0   \n",
       "3             0             0             0             0             0   \n",
       "4             0             0             0             0             0   \n",
       "\n",
       "   Response  Complain  Country  \n",
       "0         0         0       SA  \n",
       "1         1         0       CA  \n",
       "2         0         0       CA  \n",
       "3         0         0       SA  \n",
       "4         0         0       SP  \n",
       "\n",
       "[5 rows x 28 columns]"
      ]
     },
     "execution_count": 2,
     "metadata": {},
     "output_type": "execute_result"
    }
   ],
   "source": [
    "datos.head()"
   ]
  },
  {
   "cell_type": "code",
   "execution_count": 3,
   "id": "80383228",
   "metadata": {},
   "outputs": [
    {
     "data": {
      "text/html": [
       "<div>\n",
       "<style scoped>\n",
       "    .dataframe tbody tr th:only-of-type {\n",
       "        vertical-align: middle;\n",
       "    }\n",
       "\n",
       "    .dataframe tbody tr th {\n",
       "        vertical-align: top;\n",
       "    }\n",
       "\n",
       "    .dataframe thead th {\n",
       "        text-align: right;\n",
       "    }\n",
       "</style>\n",
       "<table border=\"1\" class=\"dataframe\">\n",
       "  <thead>\n",
       "    <tr style=\"text-align: right;\">\n",
       "      <th></th>\n",
       "      <th>ID</th>\n",
       "      <th>Year_Birth</th>\n",
       "      <th>Education</th>\n",
       "      <th>Marital_Status</th>\n",
       "      <th>Income</th>\n",
       "      <th>Kidhome</th>\n",
       "      <th>Teenhome</th>\n",
       "      <th>Dt_Customer</th>\n",
       "      <th>Recency</th>\n",
       "      <th>MntWines</th>\n",
       "      <th>...</th>\n",
       "      <th>NumStorePurchases</th>\n",
       "      <th>NumWebVisitsMonth</th>\n",
       "      <th>AcceptedCmp3</th>\n",
       "      <th>AcceptedCmp4</th>\n",
       "      <th>AcceptedCmp5</th>\n",
       "      <th>AcceptedCmp1</th>\n",
       "      <th>AcceptedCmp2</th>\n",
       "      <th>Response</th>\n",
       "      <th>Complain</th>\n",
       "      <th>Country</th>\n",
       "    </tr>\n",
       "  </thead>\n",
       "  <tbody>\n",
       "    <tr>\n",
       "      <th>2235</th>\n",
       "      <td>11178</td>\n",
       "      <td>1972</td>\n",
       "      <td>Master</td>\n",
       "      <td>Single</td>\n",
       "      <td>$42,394.00</td>\n",
       "      <td>1.0</td>\n",
       "      <td>0</td>\n",
       "      <td>3/23/14</td>\n",
       "      <td>69</td>\n",
       "      <td>15</td>\n",
       "      <td>...</td>\n",
       "      <td>3</td>\n",
       "      <td>7</td>\n",
       "      <td>0</td>\n",
       "      <td>0</td>\n",
       "      <td>0</td>\n",
       "      <td>0</td>\n",
       "      <td>0</td>\n",
       "      <td>0</td>\n",
       "      <td>0</td>\n",
       "      <td>GER</td>\n",
       "    </tr>\n",
       "    <tr>\n",
       "      <th>2236</th>\n",
       "      <td>11181</td>\n",
       "      <td>1949</td>\n",
       "      <td>PhD</td>\n",
       "      <td>Married</td>\n",
       "      <td>$156,924.00</td>\n",
       "      <td>0.0</td>\n",
       "      <td>0</td>\n",
       "      <td>8/29/13</td>\n",
       "      <td>85</td>\n",
       "      <td>2</td>\n",
       "      <td>...</td>\n",
       "      <td>0</td>\n",
       "      <td>0</td>\n",
       "      <td>0</td>\n",
       "      <td>0</td>\n",
       "      <td>0</td>\n",
       "      <td>0</td>\n",
       "      <td>0</td>\n",
       "      <td>0</td>\n",
       "      <td>0</td>\n",
       "      <td>CA</td>\n",
       "    </tr>\n",
       "    <tr>\n",
       "      <th>2237</th>\n",
       "      <td>11187</td>\n",
       "      <td>1978</td>\n",
       "      <td>Basic</td>\n",
       "      <td>Single</td>\n",
       "      <td>$26,487.00</td>\n",
       "      <td>1.0</td>\n",
       "      <td>0</td>\n",
       "      <td>5/20/13</td>\n",
       "      <td>23</td>\n",
       "      <td>2</td>\n",
       "      <td>...</td>\n",
       "      <td>3</td>\n",
       "      <td>5</td>\n",
       "      <td>0</td>\n",
       "      <td>0</td>\n",
       "      <td>0</td>\n",
       "      <td>0</td>\n",
       "      <td>0</td>\n",
       "      <td>0</td>\n",
       "      <td>0</td>\n",
       "      <td>CA</td>\n",
       "    </tr>\n",
       "    <tr>\n",
       "      <th>2238</th>\n",
       "      <td>11188</td>\n",
       "      <td>1957</td>\n",
       "      <td>Graduation</td>\n",
       "      <td>Together</td>\n",
       "      <td>$26,091.00</td>\n",
       "      <td>1.0</td>\n",
       "      <td>1</td>\n",
       "      <td>2/25/14</td>\n",
       "      <td>84</td>\n",
       "      <td>15</td>\n",
       "      <td>...</td>\n",
       "      <td>3</td>\n",
       "      <td>5</td>\n",
       "      <td>0</td>\n",
       "      <td>0</td>\n",
       "      <td>0</td>\n",
       "      <td>0</td>\n",
       "      <td>0</td>\n",
       "      <td>0</td>\n",
       "      <td>0</td>\n",
       "      <td>SP</td>\n",
       "    </tr>\n",
       "    <tr>\n",
       "      <th>2239</th>\n",
       "      <td>11191</td>\n",
       "      <td>1986</td>\n",
       "      <td>Graduation</td>\n",
       "      <td>Divorced</td>\n",
       "      <td>$41,411.00</td>\n",
       "      <td>0.0</td>\n",
       "      <td>0</td>\n",
       "      <td>12/07/2013</td>\n",
       "      <td>11</td>\n",
       "      <td>37</td>\n",
       "      <td>...</td>\n",
       "      <td>4</td>\n",
       "      <td>6</td>\n",
       "      <td>0</td>\n",
       "      <td>0</td>\n",
       "      <td>0</td>\n",
       "      <td>0</td>\n",
       "      <td>0</td>\n",
       "      <td>0</td>\n",
       "      <td>0</td>\n",
       "      <td>SP</td>\n",
       "    </tr>\n",
       "  </tbody>\n",
       "</table>\n",
       "<p>5 rows × 28 columns</p>\n",
       "</div>"
      ],
      "text/plain": [
       "         ID  Year_Birth   Education Marital_Status       Income   Kidhome  \\\n",
       "2235  11178        1972      Master         Single   $42,394.00       1.0   \n",
       "2236  11181        1949         PhD        Married  $156,924.00       0.0   \n",
       "2237  11187        1978       Basic         Single   $26,487.00       1.0   \n",
       "2238  11188        1957  Graduation       Together   $26,091.00       1.0   \n",
       "2239  11191        1986  Graduation       Divorced   $41,411.00       0.0   \n",
       "\n",
       "      Teenhome Dt_Customer  Recency  MntWines  ...  NumStorePurchases  \\\n",
       "2235         0     3/23/14       69        15  ...                  3   \n",
       "2236         0     8/29/13       85         2  ...                  0   \n",
       "2237         0     5/20/13       23         2  ...                  3   \n",
       "2238         1     2/25/14       84        15  ...                  3   \n",
       "2239         0  12/07/2013       11        37  ...                  4   \n",
       "\n",
       "      NumWebVisitsMonth  AcceptedCmp3  AcceptedCmp4  AcceptedCmp5  \\\n",
       "2235                  7             0             0             0   \n",
       "2236                  0             0             0             0   \n",
       "2237                  5             0             0             0   \n",
       "2238                  5             0             0             0   \n",
       "2239                  6             0             0             0   \n",
       "\n",
       "      AcceptedCmp1  AcceptedCmp2  Response  Complain  Country  \n",
       "2235             0             0         0         0      GER  \n",
       "2236             0             0         0         0       CA  \n",
       "2237             0             0         0         0       CA  \n",
       "2238             0             0         0         0       SP  \n",
       "2239             0             0         0         0       SP  \n",
       "\n",
       "[5 rows x 28 columns]"
      ]
     },
     "execution_count": 3,
     "metadata": {},
     "output_type": "execute_result"
    }
   ],
   "source": [
    "datos.tail()"
   ]
  },
  {
   "cell_type": "code",
   "execution_count": 4,
   "id": "cac5ac68",
   "metadata": {},
   "outputs": [
    {
     "data": {
      "text/html": [
       "<div>\n",
       "<style scoped>\n",
       "    .dataframe tbody tr th:only-of-type {\n",
       "        vertical-align: middle;\n",
       "    }\n",
       "\n",
       "    .dataframe tbody tr th {\n",
       "        vertical-align: top;\n",
       "    }\n",
       "\n",
       "    .dataframe thead th {\n",
       "        text-align: right;\n",
       "    }\n",
       "</style>\n",
       "<table border=\"1\" class=\"dataframe\">\n",
       "  <thead>\n",
       "    <tr style=\"text-align: right;\">\n",
       "      <th></th>\n",
       "      <th>ID</th>\n",
       "      <th>Year_Birth</th>\n",
       "      <th>Education</th>\n",
       "      <th>Marital_Status</th>\n",
       "      <th>Income</th>\n",
       "      <th>Kidhome</th>\n",
       "      <th>Teenhome</th>\n",
       "      <th>Dt_Customer</th>\n",
       "      <th>Recency</th>\n",
       "      <th>MntWines</th>\n",
       "      <th>...</th>\n",
       "      <th>NumStorePurchases</th>\n",
       "      <th>NumWebVisitsMonth</th>\n",
       "      <th>AcceptedCmp3</th>\n",
       "      <th>AcceptedCmp4</th>\n",
       "      <th>AcceptedCmp5</th>\n",
       "      <th>AcceptedCmp1</th>\n",
       "      <th>AcceptedCmp2</th>\n",
       "      <th>Response</th>\n",
       "      <th>Complain</th>\n",
       "      <th>Country</th>\n",
       "    </tr>\n",
       "  </thead>\n",
       "  <tbody>\n",
       "    <tr>\n",
       "      <th>1717</th>\n",
       "      <td>8629</td>\n",
       "      <td>1956</td>\n",
       "      <td>Graduation</td>\n",
       "      <td>Widow</td>\n",
       "      <td>$46,984.00</td>\n",
       "      <td>1.0</td>\n",
       "      <td>1</td>\n",
       "      <td>3/26/13</td>\n",
       "      <td>71</td>\n",
       "      <td>19</td>\n",
       "      <td>...</td>\n",
       "      <td>3</td>\n",
       "      <td>5</td>\n",
       "      <td>0</td>\n",
       "      <td>0</td>\n",
       "      <td>0</td>\n",
       "      <td>0</td>\n",
       "      <td>0</td>\n",
       "      <td>0</td>\n",
       "      <td>0</td>\n",
       "      <td>CA</td>\n",
       "    </tr>\n",
       "    <tr>\n",
       "      <th>1147</th>\n",
       "      <td>5596</td>\n",
       "      <td>1956</td>\n",
       "      <td>2n Cycle</td>\n",
       "      <td>Together</td>\n",
       "      <td>$58,821.00</td>\n",
       "      <td>0.0</td>\n",
       "      <td>1</td>\n",
       "      <td>10/12/2013</td>\n",
       "      <td>44</td>\n",
       "      <td>513</td>\n",
       "      <td>...</td>\n",
       "      <td>9</td>\n",
       "      <td>6</td>\n",
       "      <td>0</td>\n",
       "      <td>0</td>\n",
       "      <td>0</td>\n",
       "      <td>0</td>\n",
       "      <td>0</td>\n",
       "      <td>0</td>\n",
       "      <td>0</td>\n",
       "      <td>SA</td>\n",
       "    </tr>\n",
       "    <tr>\n",
       "      <th>1038</th>\n",
       "      <td>5120</td>\n",
       "      <td>1982</td>\n",
       "      <td>2n Cycle</td>\n",
       "      <td>Together</td>\n",
       "      <td>$66,664.00</td>\n",
       "      <td>0.0</td>\n",
       "      <td>0</td>\n",
       "      <td>9/25/12</td>\n",
       "      <td>78</td>\n",
       "      <td>398</td>\n",
       "      <td>...</td>\n",
       "      <td>6</td>\n",
       "      <td>3</td>\n",
       "      <td>0</td>\n",
       "      <td>0</td>\n",
       "      <td>0</td>\n",
       "      <td>0</td>\n",
       "      <td>0</td>\n",
       "      <td>0</td>\n",
       "      <td>0</td>\n",
       "      <td>SA</td>\n",
       "    </tr>\n",
       "    <tr>\n",
       "      <th>1926</th>\n",
       "      <td>9757</td>\n",
       "      <td>1972</td>\n",
       "      <td>Graduation</td>\n",
       "      <td>Together</td>\n",
       "      <td>$84,906.00</td>\n",
       "      <td>0.0</td>\n",
       "      <td>0</td>\n",
       "      <td>10/04/2013</td>\n",
       "      <td>98</td>\n",
       "      <td>997</td>\n",
       "      <td>...</td>\n",
       "      <td>12</td>\n",
       "      <td>2</td>\n",
       "      <td>0</td>\n",
       "      <td>1</td>\n",
       "      <td>1</td>\n",
       "      <td>0</td>\n",
       "      <td>1</td>\n",
       "      <td>0</td>\n",
       "      <td>0</td>\n",
       "      <td>SP</td>\n",
       "    </tr>\n",
       "    <tr>\n",
       "      <th>817</th>\n",
       "      <td>4099</td>\n",
       "      <td>1972</td>\n",
       "      <td>Graduation</td>\n",
       "      <td>Married</td>\n",
       "      <td>$30,675.00</td>\n",
       "      <td>1.0</td>\n",
       "      <td>0</td>\n",
       "      <td>11/12/2012</td>\n",
       "      <td>14</td>\n",
       "      <td>10</td>\n",
       "      <td>...</td>\n",
       "      <td>3</td>\n",
       "      <td>8</td>\n",
       "      <td>0</td>\n",
       "      <td>0</td>\n",
       "      <td>0</td>\n",
       "      <td>0</td>\n",
       "      <td>0</td>\n",
       "      <td>0</td>\n",
       "      <td>0</td>\n",
       "      <td>SP</td>\n",
       "    </tr>\n",
       "  </tbody>\n",
       "</table>\n",
       "<p>5 rows × 28 columns</p>\n",
       "</div>"
      ],
      "text/plain": [
       "        ID  Year_Birth   Education Marital_Status      Income   Kidhome  \\\n",
       "1717  8629        1956  Graduation          Widow  $46,984.00       1.0   \n",
       "1147  5596        1956    2n Cycle       Together  $58,821.00       0.0   \n",
       "1038  5120        1982    2n Cycle       Together  $66,664.00       0.0   \n",
       "1926  9757        1972  Graduation       Together  $84,906.00       0.0   \n",
       "817   4099        1972  Graduation        Married  $30,675.00       1.0   \n",
       "\n",
       "      Teenhome Dt_Customer  Recency  MntWines  ...  NumStorePurchases  \\\n",
       "1717         1     3/26/13       71        19  ...                  3   \n",
       "1147         1  10/12/2013       44       513  ...                  9   \n",
       "1038         0     9/25/12       78       398  ...                  6   \n",
       "1926         0  10/04/2013       98       997  ...                 12   \n",
       "817          0  11/12/2012       14        10  ...                  3   \n",
       "\n",
       "      NumWebVisitsMonth  AcceptedCmp3  AcceptedCmp4  AcceptedCmp5  \\\n",
       "1717                  5             0             0             0   \n",
       "1147                  6             0             0             0   \n",
       "1038                  3             0             0             0   \n",
       "1926                  2             0             1             1   \n",
       "817                   8             0             0             0   \n",
       "\n",
       "      AcceptedCmp1  AcceptedCmp2  Response  Complain  Country  \n",
       "1717             0             0         0         0       CA  \n",
       "1147             0             0         0         0       SA  \n",
       "1038             0             0         0         0       SA  \n",
       "1926             0             1         0         0       SP  \n",
       "817              0             0         0         0       SP  \n",
       "\n",
       "[5 rows x 28 columns]"
      ]
     },
     "execution_count": 4,
     "metadata": {},
     "output_type": "execute_result"
    }
   ],
   "source": [
    "datos.sample(5)"
   ]
  },
  {
   "cell_type": "code",
   "execution_count": 5,
   "id": "b8e1929b",
   "metadata": {},
   "outputs": [
    {
     "name": "stdout",
     "output_type": "stream",
     "text": [
      "Cantidad de Filas: 2240\n",
      "Cantidad de Columnas : 28\n"
     ]
    }
   ],
   "source": [
    "print('Cantidad de Filas: {}\\nCantidad de Columnas : {}'.format(datos.shape[0],datos.shape[1]))"
   ]
  },
  {
   "cell_type": "code",
   "execution_count": 6,
   "id": "5af867e5",
   "metadata": {},
   "outputs": [
    {
     "name": "stdout",
     "output_type": "stream",
     "text": [
      "<class 'pandas.core.frame.DataFrame'>\n",
      "RangeIndex: 2240 entries, 0 to 2239\n",
      "Data columns (total 28 columns):\n",
      " #   Column               Non-Null Count  Dtype  \n",
      "---  ------               --------------  -----  \n",
      " 0   ID                   2240 non-null   int64  \n",
      " 1   Year_Birth           2240 non-null   int64  \n",
      " 2   Education            2240 non-null   object \n",
      " 3   Marital_Status       2240 non-null   object \n",
      " 4    Income              2216 non-null   object \n",
      " 5   Kidhome              2219 non-null   float64\n",
      " 6   Teenhome             2240 non-null   int64  \n",
      " 7   Dt_Customer          2240 non-null   object \n",
      " 8   Recency              2240 non-null   int64  \n",
      " 9   MntWines             2240 non-null   int64  \n",
      " 10  MntFruits            2240 non-null   int64  \n",
      " 11  MntMeatProducts      2240 non-null   int64  \n",
      " 12  MntFishProducts      2240 non-null   int64  \n",
      " 13  MntSweetProducts     2240 non-null   int64  \n",
      " 14  MntGoldProds         2240 non-null   int64  \n",
      " 15  NumDealsPurchases    2240 non-null   int64  \n",
      " 16  NumWebPurchases      2240 non-null   int64  \n",
      " 17  NumCatalogPurchases  2240 non-null   int64  \n",
      " 18  NumStorePurchases    2240 non-null   int64  \n",
      " 19  NumWebVisitsMonth    2240 non-null   int64  \n",
      " 20  AcceptedCmp3         2240 non-null   int64  \n",
      " 21  AcceptedCmp4         2240 non-null   int64  \n",
      " 22  AcceptedCmp5         2240 non-null   int64  \n",
      " 23  AcceptedCmp1         2240 non-null   int64  \n",
      " 24  AcceptedCmp2         2240 non-null   int64  \n",
      " 25  Response             2240 non-null   int64  \n",
      " 26  Complain             2240 non-null   int64  \n",
      " 27  Country              2240 non-null   object \n",
      "dtypes: float64(1), int64(22), object(5)\n",
      "memory usage: 490.1+ KB\n"
     ]
    }
   ],
   "source": [
    "datos.info()"
   ]
  },
  {
   "cell_type": "markdown",
   "id": "1d83eb0d",
   "metadata": {},
   "source": [
    "### Limpieza de Datos  (Columna Income)"
   ]
  },
  {
   "cell_type": "code",
   "execution_count": 7,
   "id": "ff991f89",
   "metadata": {},
   "outputs": [],
   "source": [
    "#Renombrar la columna Income para quitar los espacios en el nombre\n",
    "\n",
    "datos = datos.rename(columns={' Income ': 'Income'})"
   ]
  },
  {
   "cell_type": "code",
   "execution_count": 8,
   "id": "3506d0df",
   "metadata": {},
   "outputs": [],
   "source": [
    "#Se eliminar el simbolo de $ en Income y convierte a float\n",
    "datos['Income'] = datos['Income'].str.strip('$')\n",
    "datos['Income'] = datos['Income'].str.replace(',','')\n",
    "\n",
    "datos['Income'] = datos['Income'].astype('float')"
   ]
  },
  {
   "cell_type": "markdown",
   "id": "1816b172",
   "metadata": {},
   "source": [
    "### Descripcion de DataSet (Medidas de tendencia central)"
   ]
  },
  {
   "cell_type": "code",
   "execution_count": 9,
   "id": "dc994464",
   "metadata": {},
   "outputs": [
    {
     "data": {
      "text/html": [
       "<div>\n",
       "<style scoped>\n",
       "    .dataframe tbody tr th:only-of-type {\n",
       "        vertical-align: middle;\n",
       "    }\n",
       "\n",
       "    .dataframe tbody tr th {\n",
       "        vertical-align: top;\n",
       "    }\n",
       "\n",
       "    .dataframe thead th {\n",
       "        text-align: right;\n",
       "    }\n",
       "</style>\n",
       "<table border=\"1\" class=\"dataframe\">\n",
       "  <thead>\n",
       "    <tr style=\"text-align: right;\">\n",
       "      <th></th>\n",
       "      <th>count</th>\n",
       "      <th>mean</th>\n",
       "      <th>std</th>\n",
       "      <th>min</th>\n",
       "      <th>25%</th>\n",
       "      <th>50%</th>\n",
       "      <th>75%</th>\n",
       "      <th>max</th>\n",
       "    </tr>\n",
       "  </thead>\n",
       "  <tbody>\n",
       "    <tr>\n",
       "      <th>ID</th>\n",
       "      <td>2240.0</td>\n",
       "      <td>5592.2</td>\n",
       "      <td>3246.7</td>\n",
       "      <td>0.0</td>\n",
       "      <td>2828.2</td>\n",
       "      <td>5458.5</td>\n",
       "      <td>8427.8</td>\n",
       "      <td>11191.0</td>\n",
       "    </tr>\n",
       "    <tr>\n",
       "      <th>Year_Birth</th>\n",
       "      <td>2240.0</td>\n",
       "      <td>1968.8</td>\n",
       "      <td>12.0</td>\n",
       "      <td>1893.0</td>\n",
       "      <td>1959.0</td>\n",
       "      <td>1970.0</td>\n",
       "      <td>1977.0</td>\n",
       "      <td>1996.0</td>\n",
       "    </tr>\n",
       "    <tr>\n",
       "      <th>Income</th>\n",
       "      <td>2216.0</td>\n",
       "      <td>52247.3</td>\n",
       "      <td>25173.1</td>\n",
       "      <td>1730.0</td>\n",
       "      <td>35303.0</td>\n",
       "      <td>51381.5</td>\n",
       "      <td>68522.0</td>\n",
       "      <td>666666.0</td>\n",
       "    </tr>\n",
       "    <tr>\n",
       "      <th>Kidhome</th>\n",
       "      <td>2219.0</td>\n",
       "      <td>0.4</td>\n",
       "      <td>0.5</td>\n",
       "      <td>0.0</td>\n",
       "      <td>0.0</td>\n",
       "      <td>0.0</td>\n",
       "      <td>1.0</td>\n",
       "      <td>2.0</td>\n",
       "    </tr>\n",
       "    <tr>\n",
       "      <th>Teenhome</th>\n",
       "      <td>2240.0</td>\n",
       "      <td>0.5</td>\n",
       "      <td>0.5</td>\n",
       "      <td>0.0</td>\n",
       "      <td>0.0</td>\n",
       "      <td>0.0</td>\n",
       "      <td>1.0</td>\n",
       "      <td>2.0</td>\n",
       "    </tr>\n",
       "    <tr>\n",
       "      <th>Recency</th>\n",
       "      <td>2240.0</td>\n",
       "      <td>49.1</td>\n",
       "      <td>29.0</td>\n",
       "      <td>0.0</td>\n",
       "      <td>24.0</td>\n",
       "      <td>49.0</td>\n",
       "      <td>74.0</td>\n",
       "      <td>99.0</td>\n",
       "    </tr>\n",
       "    <tr>\n",
       "      <th>MntWines</th>\n",
       "      <td>2240.0</td>\n",
       "      <td>303.9</td>\n",
       "      <td>336.6</td>\n",
       "      <td>0.0</td>\n",
       "      <td>23.8</td>\n",
       "      <td>173.5</td>\n",
       "      <td>504.2</td>\n",
       "      <td>1493.0</td>\n",
       "    </tr>\n",
       "    <tr>\n",
       "      <th>MntFruits</th>\n",
       "      <td>2240.0</td>\n",
       "      <td>26.3</td>\n",
       "      <td>39.8</td>\n",
       "      <td>0.0</td>\n",
       "      <td>1.0</td>\n",
       "      <td>8.0</td>\n",
       "      <td>33.0</td>\n",
       "      <td>199.0</td>\n",
       "    </tr>\n",
       "    <tr>\n",
       "      <th>MntMeatProducts</th>\n",
       "      <td>2240.0</td>\n",
       "      <td>167.0</td>\n",
       "      <td>225.7</td>\n",
       "      <td>0.0</td>\n",
       "      <td>16.0</td>\n",
       "      <td>67.0</td>\n",
       "      <td>232.0</td>\n",
       "      <td>1725.0</td>\n",
       "    </tr>\n",
       "    <tr>\n",
       "      <th>MntFishProducts</th>\n",
       "      <td>2240.0</td>\n",
       "      <td>37.5</td>\n",
       "      <td>54.6</td>\n",
       "      <td>0.0</td>\n",
       "      <td>3.0</td>\n",
       "      <td>12.0</td>\n",
       "      <td>50.0</td>\n",
       "      <td>259.0</td>\n",
       "    </tr>\n",
       "    <tr>\n",
       "      <th>MntSweetProducts</th>\n",
       "      <td>2240.0</td>\n",
       "      <td>27.1</td>\n",
       "      <td>41.3</td>\n",
       "      <td>0.0</td>\n",
       "      <td>1.0</td>\n",
       "      <td>8.0</td>\n",
       "      <td>33.0</td>\n",
       "      <td>263.0</td>\n",
       "    </tr>\n",
       "    <tr>\n",
       "      <th>MntGoldProds</th>\n",
       "      <td>2240.0</td>\n",
       "      <td>44.0</td>\n",
       "      <td>52.2</td>\n",
       "      <td>0.0</td>\n",
       "      <td>9.0</td>\n",
       "      <td>24.0</td>\n",
       "      <td>56.0</td>\n",
       "      <td>362.0</td>\n",
       "    </tr>\n",
       "    <tr>\n",
       "      <th>NumDealsPurchases</th>\n",
       "      <td>2240.0</td>\n",
       "      <td>2.3</td>\n",
       "      <td>1.9</td>\n",
       "      <td>0.0</td>\n",
       "      <td>1.0</td>\n",
       "      <td>2.0</td>\n",
       "      <td>3.0</td>\n",
       "      <td>15.0</td>\n",
       "    </tr>\n",
       "    <tr>\n",
       "      <th>NumWebPurchases</th>\n",
       "      <td>2240.0</td>\n",
       "      <td>4.1</td>\n",
       "      <td>2.8</td>\n",
       "      <td>0.0</td>\n",
       "      <td>2.0</td>\n",
       "      <td>4.0</td>\n",
       "      <td>6.0</td>\n",
       "      <td>27.0</td>\n",
       "    </tr>\n",
       "    <tr>\n",
       "      <th>NumCatalogPurchases</th>\n",
       "      <td>2240.0</td>\n",
       "      <td>2.7</td>\n",
       "      <td>2.9</td>\n",
       "      <td>0.0</td>\n",
       "      <td>0.0</td>\n",
       "      <td>2.0</td>\n",
       "      <td>4.0</td>\n",
       "      <td>28.0</td>\n",
       "    </tr>\n",
       "    <tr>\n",
       "      <th>NumStorePurchases</th>\n",
       "      <td>2240.0</td>\n",
       "      <td>5.8</td>\n",
       "      <td>3.3</td>\n",
       "      <td>0.0</td>\n",
       "      <td>3.0</td>\n",
       "      <td>5.0</td>\n",
       "      <td>8.0</td>\n",
       "      <td>13.0</td>\n",
       "    </tr>\n",
       "    <tr>\n",
       "      <th>NumWebVisitsMonth</th>\n",
       "      <td>2240.0</td>\n",
       "      <td>5.3</td>\n",
       "      <td>2.4</td>\n",
       "      <td>0.0</td>\n",
       "      <td>3.0</td>\n",
       "      <td>6.0</td>\n",
       "      <td>7.0</td>\n",
       "      <td>20.0</td>\n",
       "    </tr>\n",
       "    <tr>\n",
       "      <th>AcceptedCmp3</th>\n",
       "      <td>2240.0</td>\n",
       "      <td>0.1</td>\n",
       "      <td>0.3</td>\n",
       "      <td>0.0</td>\n",
       "      <td>0.0</td>\n",
       "      <td>0.0</td>\n",
       "      <td>0.0</td>\n",
       "      <td>1.0</td>\n",
       "    </tr>\n",
       "    <tr>\n",
       "      <th>AcceptedCmp4</th>\n",
       "      <td>2240.0</td>\n",
       "      <td>0.1</td>\n",
       "      <td>0.3</td>\n",
       "      <td>0.0</td>\n",
       "      <td>0.0</td>\n",
       "      <td>0.0</td>\n",
       "      <td>0.0</td>\n",
       "      <td>1.0</td>\n",
       "    </tr>\n",
       "    <tr>\n",
       "      <th>AcceptedCmp5</th>\n",
       "      <td>2240.0</td>\n",
       "      <td>0.1</td>\n",
       "      <td>0.3</td>\n",
       "      <td>0.0</td>\n",
       "      <td>0.0</td>\n",
       "      <td>0.0</td>\n",
       "      <td>0.0</td>\n",
       "      <td>1.0</td>\n",
       "    </tr>\n",
       "    <tr>\n",
       "      <th>AcceptedCmp1</th>\n",
       "      <td>2240.0</td>\n",
       "      <td>0.1</td>\n",
       "      <td>0.2</td>\n",
       "      <td>0.0</td>\n",
       "      <td>0.0</td>\n",
       "      <td>0.0</td>\n",
       "      <td>0.0</td>\n",
       "      <td>1.0</td>\n",
       "    </tr>\n",
       "    <tr>\n",
       "      <th>AcceptedCmp2</th>\n",
       "      <td>2240.0</td>\n",
       "      <td>0.0</td>\n",
       "      <td>0.1</td>\n",
       "      <td>0.0</td>\n",
       "      <td>0.0</td>\n",
       "      <td>0.0</td>\n",
       "      <td>0.0</td>\n",
       "      <td>1.0</td>\n",
       "    </tr>\n",
       "    <tr>\n",
       "      <th>Response</th>\n",
       "      <td>2240.0</td>\n",
       "      <td>0.1</td>\n",
       "      <td>0.4</td>\n",
       "      <td>0.0</td>\n",
       "      <td>0.0</td>\n",
       "      <td>0.0</td>\n",
       "      <td>0.0</td>\n",
       "      <td>1.0</td>\n",
       "    </tr>\n",
       "    <tr>\n",
       "      <th>Complain</th>\n",
       "      <td>2240.0</td>\n",
       "      <td>0.0</td>\n",
       "      <td>0.1</td>\n",
       "      <td>0.0</td>\n",
       "      <td>0.0</td>\n",
       "      <td>0.0</td>\n",
       "      <td>0.0</td>\n",
       "      <td>1.0</td>\n",
       "    </tr>\n",
       "  </tbody>\n",
       "</table>\n",
       "</div>"
      ],
      "text/plain": [
       "                      count     mean      std     min      25%      50%  \\\n",
       "ID                   2240.0   5592.2   3246.7     0.0   2828.2   5458.5   \n",
       "Year_Birth           2240.0   1968.8     12.0  1893.0   1959.0   1970.0   \n",
       "Income               2216.0  52247.3  25173.1  1730.0  35303.0  51381.5   \n",
       "Kidhome              2219.0      0.4      0.5     0.0      0.0      0.0   \n",
       "Teenhome             2240.0      0.5      0.5     0.0      0.0      0.0   \n",
       "Recency              2240.0     49.1     29.0     0.0     24.0     49.0   \n",
       "MntWines             2240.0    303.9    336.6     0.0     23.8    173.5   \n",
       "MntFruits            2240.0     26.3     39.8     0.0      1.0      8.0   \n",
       "MntMeatProducts      2240.0    167.0    225.7     0.0     16.0     67.0   \n",
       "MntFishProducts      2240.0     37.5     54.6     0.0      3.0     12.0   \n",
       "MntSweetProducts     2240.0     27.1     41.3     0.0      1.0      8.0   \n",
       "MntGoldProds         2240.0     44.0     52.2     0.0      9.0     24.0   \n",
       "NumDealsPurchases    2240.0      2.3      1.9     0.0      1.0      2.0   \n",
       "NumWebPurchases      2240.0      4.1      2.8     0.0      2.0      4.0   \n",
       "NumCatalogPurchases  2240.0      2.7      2.9     0.0      0.0      2.0   \n",
       "NumStorePurchases    2240.0      5.8      3.3     0.0      3.0      5.0   \n",
       "NumWebVisitsMonth    2240.0      5.3      2.4     0.0      3.0      6.0   \n",
       "AcceptedCmp3         2240.0      0.1      0.3     0.0      0.0      0.0   \n",
       "AcceptedCmp4         2240.0      0.1      0.3     0.0      0.0      0.0   \n",
       "AcceptedCmp5         2240.0      0.1      0.3     0.0      0.0      0.0   \n",
       "AcceptedCmp1         2240.0      0.1      0.2     0.0      0.0      0.0   \n",
       "AcceptedCmp2         2240.0      0.0      0.1     0.0      0.0      0.0   \n",
       "Response             2240.0      0.1      0.4     0.0      0.0      0.0   \n",
       "Complain             2240.0      0.0      0.1     0.0      0.0      0.0   \n",
       "\n",
       "                         75%       max  \n",
       "ID                    8427.8   11191.0  \n",
       "Year_Birth            1977.0    1996.0  \n",
       "Income               68522.0  666666.0  \n",
       "Kidhome                  1.0       2.0  \n",
       "Teenhome                 1.0       2.0  \n",
       "Recency                 74.0      99.0  \n",
       "MntWines               504.2    1493.0  \n",
       "MntFruits               33.0     199.0  \n",
       "MntMeatProducts        232.0    1725.0  \n",
       "MntFishProducts         50.0     259.0  \n",
       "MntSweetProducts        33.0     263.0  \n",
       "MntGoldProds            56.0     362.0  \n",
       "NumDealsPurchases        3.0      15.0  \n",
       "NumWebPurchases          6.0      27.0  \n",
       "NumCatalogPurchases      4.0      28.0  \n",
       "NumStorePurchases        8.0      13.0  \n",
       "NumWebVisitsMonth        7.0      20.0  \n",
       "AcceptedCmp3             0.0       1.0  \n",
       "AcceptedCmp4             0.0       1.0  \n",
       "AcceptedCmp5             0.0       1.0  \n",
       "AcceptedCmp1             0.0       1.0  \n",
       "AcceptedCmp2             0.0       1.0  \n",
       "Response                 0.0       1.0  \n",
       "Complain                 0.0       1.0  "
      ]
     },
     "execution_count": 9,
     "metadata": {},
     "output_type": "execute_result"
    }
   ],
   "source": [
    "datos.describe().transpose().round(1)"
   ]
  },
  {
   "cell_type": "markdown",
   "id": "986fa17c",
   "metadata": {},
   "source": [
    "### Limpieza de Datos (Fecha)"
   ]
  },
  {
   "cell_type": "code",
   "execution_count": 10,
   "id": "96f2aaf2",
   "metadata": {},
   "outputs": [],
   "source": [
    "datos.Dt_Customer = pd.to_datetime(datos.Dt_Customer)"
   ]
  },
  {
   "cell_type": "code",
   "execution_count": 11,
   "id": "02d80269",
   "metadata": {},
   "outputs": [
    {
     "name": "stdout",
     "output_type": "stream",
     "text": [
      "El formato nuevo es datetime64[ns] :\n"
     ]
    }
   ],
   "source": [
    "print('El formato nuevo es {} :'.format(datos.Dt_Customer.dtypes))"
   ]
  },
  {
   "cell_type": "markdown",
   "id": "e434a13b",
   "metadata": {},
   "source": [
    "### Eliminacion de columnas inecesarias"
   ]
  },
  {
   "cell_type": "code",
   "execution_count": 12,
   "id": "183c66df",
   "metadata": {},
   "outputs": [],
   "source": [
    "datos.drop(['ID','AcceptedCmp3','AcceptedCmp4','AcceptedCmp5','AcceptedCmp2','AcceptedCmp1'], axis=1, inplace=True)"
   ]
  },
  {
   "cell_type": "code",
   "execution_count": 13,
   "id": "923323ae",
   "metadata": {},
   "outputs": [
    {
     "data": {
      "text/plain": [
       "(2240, 22)"
      ]
     },
     "execution_count": 13,
     "metadata": {},
     "output_type": "execute_result"
    }
   ],
   "source": [
    "datos.shape"
   ]
  },
  {
   "cell_type": "markdown",
   "id": "6144e007",
   "metadata": {},
   "source": [
    "### Validar cuantos valores vacios hay"
   ]
  },
  {
   "cell_type": "code",
   "execution_count": 14,
   "id": "f4c966ba",
   "metadata": {},
   "outputs": [
    {
     "data": {
      "text/plain": [
       "Year_Birth              0\n",
       "Education               0\n",
       "Marital_Status          0\n",
       "Income                 24\n",
       "Kidhome                21\n",
       "Teenhome                0\n",
       "Dt_Customer             0\n",
       "Recency                 0\n",
       "MntWines                0\n",
       "MntFruits               0\n",
       "MntMeatProducts         0\n",
       "MntFishProducts         0\n",
       "MntSweetProducts        0\n",
       "MntGoldProds            0\n",
       "NumDealsPurchases       0\n",
       "NumWebPurchases         0\n",
       "NumCatalogPurchases     0\n",
       "NumStorePurchases       0\n",
       "NumWebVisitsMonth       0\n",
       "Response                0\n",
       "Complain                0\n",
       "Country                 0\n",
       "dtype: int64"
      ]
     },
     "execution_count": 14,
     "metadata": {},
     "output_type": "execute_result"
    }
   ],
   "source": [
    "datos.isnull().sum()"
   ]
  },
  {
   "cell_type": "markdown",
   "id": "712dd65e",
   "metadata": {},
   "source": [
    "### Reemplazar los valores vacios"
   ]
  },
  {
   "cell_type": "markdown",
   "id": "2eee404c",
   "metadata": {},
   "source": [
    "#### Reemplazar Income por mediana"
   ]
  },
  {
   "cell_type": "code",
   "execution_count": 15,
   "id": "725362a8",
   "metadata": {},
   "outputs": [
    {
     "name": "stdout",
     "output_type": "stream",
     "text": [
      "Valores vacios en columna Income :  0\n"
     ]
    }
   ],
   "source": [
    "### Creamos una funciona lambda para calcular la mediana y llenar las filas\n",
    "datos.Income = datos[['Income']].apply(lambda x: x.fillna(x.median()), axis=0)\n",
    "\n",
    "print(\"Valores vacios en columna Income : \",datos.Income.isna().sum())"
   ]
  },
  {
   "cell_type": "markdown",
   "id": "62e96433",
   "metadata": {},
   "source": [
    "#### Reemplazar Kidhome por moda"
   ]
  },
  {
   "cell_type": "code",
   "execution_count": 16,
   "id": "484111c1",
   "metadata": {},
   "outputs": [
    {
     "name": "stdout",
     "output_type": "stream",
     "text": [
      "Valores vacios en columna Kidhome :  0\n"
     ]
    }
   ],
   "source": [
    "### Creamos una funciona lambda para calcular la moda y llenar las filas\n",
    "datos.Kidhome = datos[['Kidhome']].apply(lambda x: x.fillna(x.mode()[0]), axis=0)\n",
    "\n",
    "print(\"Valores vacios en columna Kidhome : \",datos.Kidhome.isnull().sum())\n"
   ]
  },
  {
   "cell_type": "code",
   "execution_count": 17,
   "id": "ed636e08",
   "metadata": {},
   "outputs": [
    {
     "data": {
      "text/plain": [
       "Year_Birth             0\n",
       "Education              0\n",
       "Marital_Status         0\n",
       "Income                 0\n",
       "Kidhome                0\n",
       "Teenhome               0\n",
       "Dt_Customer            0\n",
       "Recency                0\n",
       "MntWines               0\n",
       "MntFruits              0\n",
       "MntMeatProducts        0\n",
       "MntFishProducts        0\n",
       "MntSweetProducts       0\n",
       "MntGoldProds           0\n",
       "NumDealsPurchases      0\n",
       "NumWebPurchases        0\n",
       "NumCatalogPurchases    0\n",
       "NumStorePurchases      0\n",
       "NumWebVisitsMonth      0\n",
       "Response               0\n",
       "Complain               0\n",
       "Country                0\n",
       "dtype: int64"
      ]
     },
     "execution_count": 17,
     "metadata": {},
     "output_type": "execute_result"
    }
   ],
   "source": [
    "datos.isnull().sum()"
   ]
  },
  {
   "cell_type": "markdown",
   "id": "b41531ba",
   "metadata": {},
   "source": [
    "### Analisis de Variables Catagoricas"
   ]
  },
  {
   "cell_type": "code",
   "execution_count": 18,
   "id": "972bfd0e",
   "metadata": {},
   "outputs": [
    {
     "data": {
      "image/png": "[encoded data removed]",
      "text/plain": [
       "<Figure size 1152x432 with 1 Axes>"
      ]
     },
     "metadata": {
      "needs_background": "light"
     },
     "output_type": "display_data"
    }
   ],
   "source": [
    "#Dispersion del Income\n",
    "\n",
    "plt.figure(figsize=(16,6))\n",
    "plt.hist(datos.Income, bins=30)\n",
    "plt.title(\"Distribucion de las Ganancia\")\n",
    "plt.xlabel(\"Ganancias\")\n",
    "plt.ylabel(\"Num\")\n",
    "\n",
    "plt.show()"
   ]
  },
  {
   "cell_type": "code",
   "execution_count": 19,
   "id": "815b7660",
   "metadata": {
    "scrolled": true
   },
   "outputs": [
    {
     "data": {
      "image/png": "[encoded data removed]",
      "text/plain": [
       "<Figure size 2160x432 with 2 Axes>"
      ]
     },
     "metadata": {
      "needs_background": "light"
     },
     "output_type": "display_data"
    }
   ],
   "source": [
    "#Selecionar columnas para plot\n",
    "datos_plt = datos[['Year_Birth', 'Income', 'Kidhome', 'Teenhome',\n",
    " 'Dt_Customer', 'Recency', 'MntWines', 'MntFruits', 'MntMeatProducts', 'MntFishProducts',\n",
    " 'MntSweetProducts', 'MntGoldProds', 'NumDealsPurchases', 'NumWebPurchases', 'NumCatalogPurchases',\n",
    " 'NumStorePurchases', 'NumWebVisitsMonth', 'Country']]\n",
    "\n",
    "#Crear el subplot\n",
    "plt.figure(figsize=(30,6))\n",
    "\n",
    "plt.subplot(132)\n",
    "plt.boxplot(datos_plt.Year_Birth)\n",
    "plt.title('Year_Birth', size=16)\n",
    "plt.ylabel('', size=14)\n",
    "\n",
    "plt.subplot(133)\n",
    "plt.boxplot(datos_plt.Year_Birth, showfliers=False)\n",
    "plt.title('Year_Birth sin OutLiers', size=16)\n",
    "plt.ylabel('', size=14)\n",
    "\n",
    "\n",
    "plt.show()\n"
   ]
  },
  {
   "cell_type": "code",
   "execution_count": 20,
   "id": "6638a3fd",
   "metadata": {
    "scrolled": true
   },
   "outputs": [
    {
     "data": {
      "image/png": "[encoded data removed]",
      "text/plain": [
       "<Figure size 2160x432 with 2 Axes>"
      ]
     },
     "metadata": {
      "needs_background": "light"
     },
     "output_type": "display_data"
    }
   ],
   "source": [
    "#Creamos un plot de Income\n",
    "\n",
    "plt.figure(figsize=(30,6))\n",
    "\n",
    "plt.subplot(132)\n",
    "plt.boxplot(datos.Income)\n",
    "plt.title('Income', size=18)\n",
    "plt.ylabel('Income', size=14)\n",
    "\n",
    "plt.subplot(133)\n",
    "plt.boxplot(datos.Income, showfliers=False)\n",
    "plt.title('Income sin OutLiers', size=18)\n",
    "plt.ylabel('Income', size=14)\n",
    "\n",
    "plt.show()"
   ]
  },
  {
   "cell_type": "markdown",
   "id": "fea12ab2",
   "metadata": {},
   "source": [
    "#### Crea Acumulado de compras y gasto"
   ]
  },
  {
   "cell_type": "code",
   "execution_count": 21,
   "id": "802c7455",
   "metadata": {},
   "outputs": [],
   "source": [
    "#Crea una lista con los nombre de las columnas que contengan la palabra 'Purchases' o compra\n",
    "colum_compra = [\n",
    "colum for colum in datos.columns\n",
    "    if 'Purchases' in colum ]\n",
    "\n",
    "#Creamos Total Compras con la sumatoria de todas las columnas de Purchases' o compra\n",
    "datos['TotalCompras'] = datos[colum_compra].sum(axis =1 )\n",
    "\n",
    "#Crea una lista con los nombre de las columnas que contengan la palabra 'Mnt' o \n",
    "colum_Mnt = [\n",
    "colum for colum in datos.columns\n",
    "    if 'Mnt' in colum ]\n",
    "\n",
    "#Creamos Total Mnt con la sumatoria de todas las columnas de Purchases' o compra\n",
    "datos['TotalMnt'] = datos[colum_Mnt].sum(axis =1 )"
   ]
  },
  {
   "cell_type": "code",
   "execution_count": 22,
   "id": "8430038f",
   "metadata": {},
   "outputs": [],
   "source": [
    "#Colores por pais\n",
    "colors ={'AUS': '#1746A2', 'CA': '#F1021D', 'GER': '#000000', 'IND': '#CD104D', 'ME': '#1C6758', 'SA': '#533483', 'SP': '#FEB139', 'US': '#4C0033'}\n",
    "\n",
    "#Mapeamos las ubicaciones de cada alojamiento con el color respectivo\n",
    "pais_color = datos.Country.map(colors)"
   ]
  },
  {
   "cell_type": "code",
   "execution_count": 23,
   "id": "210f6a43",
   "metadata": {
    "scrolled": true
   },
   "outputs": [
    {
     "data": {
      "image/png": "[encoded data removed]",
      "text/plain": [
       "<Figure size 1152x432 with 1 Axes>"
      ]
     },
     "metadata": {
      "needs_background": "light"
     },
     "output_type": "display_data"
    }
   ],
   "source": [
    "#Agrupos los datos y ordenas de mayor a menor\n",
    "dato_grafico = datos.groupby('Country')['TotalCompras'].sum().sort_values(ascending=False)\n",
    "\n",
    "#Creamos variable con los valores\n",
    "pais = dato_grafico.index\n",
    "compra = dato_grafico.values\n",
    "\n",
    "#Graficamos los datos\n",
    "plt.figure(figsize=(16,6))\n",
    "plt.bar(pais, compra, color=pais_color)\n",
    "plt.xticks(pais)\n",
    "plt.title('Numero Compras por Pais', size=18)\n",
    "plt.ylabel('Numero Compras', size=14)\n",
    "plt.xlabel('Pais',size=14)\n",
    "\n",
    "plt.show()\n"
   ]
  },
  {
   "cell_type": "code",
   "execution_count": 24,
   "id": "d50f92bf",
   "metadata": {
    "scrolled": true
   },
   "outputs": [
    {
     "data": {
      "image/png": "[encoded data removed]",
      "text/plain": [
       "<Figure size 1152x432 with 1 Axes>"
      ]
     },
     "metadata": {
      "needs_background": "light"
     },
     "output_type": "display_data"
    }
   ],
   "source": [
    "#Agrupos los datos y ordenas de mayor a menor\n",
    "dato_grafico2 = datos.groupby('Country')['TotalMnt'].agg(sum).sort_values(ascending=False)\n",
    "\n",
    "#Creamos variable con los valores\n",
    "pais = dato_grafico2.index\n",
    "Mnt = dato_grafico2.values\n",
    "\n",
    "#Graficamos los datos\n",
    "plt.figure(figsize=(16,6))\n",
    "plt.bar(pais, Mnt, color = pais_color)\n",
    "plt.xticks(pais)\n",
    "plt.title('Numero Mnt por Pais', size=18)\n",
    "plt.ylabel('Numero Mnt', size=14)\n",
    "plt.xlabel('Pais',size=14)\n",
    "\n",
    "plt.show()"
   ]
  },
  {
   "cell_type": "markdown",
   "id": "3e4b02cc",
   "metadata": {},
   "source": [
    "### Compras por Marital Status"
   ]
  },
  {
   "cell_type": "code",
   "execution_count": 25,
   "id": "2cfe67a1",
   "metadata": {},
   "outputs": [
    {
     "data": {
      "image/png": "[encoded data removed]",
      "text/plain": [
       "<Figure size 1152x432 with 1 Axes>"
      ]
     },
     "metadata": {
      "needs_background": "light"
     },
     "output_type": "display_data"
    }
   ],
   "source": [
    "# Agrupamos los valores\n",
    "df_marital = datos.groupby('Marital_Status')['TotalCompras'].sum().sort_values(ascending=False)\n",
    "\n",
    "#Creamos variable con los valores\n",
    "status = df_marital.index\n",
    "compra = df_marital.values\n",
    "\n",
    "#Graficamos los datos\n",
    "plt.figure(figsize=(16,6))\n",
    "plt.bar(status,compra)\n",
    "plt.title('Compras por Marital Status')\n",
    "plt.show()\n"
   ]
  },
  {
   "cell_type": "markdown",
   "id": "62ce47c0",
   "metadata": {},
   "source": [
    "### Ver cual producto prefieren"
   ]
  },
  {
   "cell_type": "code",
   "execution_count": 26,
   "id": "8f18dafe",
   "metadata": {
    "scrolled": true
   },
   "outputs": [
    {
     "data": {
      "image/png": "[encoded data removed]",
      "text/plain": [
       "<Figure size 432x288 with 1 Axes>"
      ]
     },
     "metadata": {
      "needs_background": "light"
     },
     "output_type": "display_data"
    }
   ],
   "source": [
    "# Selecionar las columnas\n",
    "column_Mnt =[colum for colum in datos.columns \n",
    "                if 'Mnt' in colum\n",
    "            ]\n",
    "\n",
    "# Promedia las categorias\n",
    "df_categoria = datos[column_Mnt].mean().sort_values(ascending=False)\n",
    "\n",
    "#Creamos variable con los valores\n",
    "Categoria = df_categoria.index\n",
    "Monto = df_categoria.values\n",
    "\n",
    "# Graficamos los datos\n",
    "fig, ax = plt.subplots()\n",
    "\n",
    "\n",
    "ax.barh(Categoria,Monto, color = '#98A8F8')\n",
    "\n",
    "ax.set_title('Grafica de Categoria')\n",
    "ax.set_xlabel('Promedio', color='#3C4048')\n",
    "ax.set_ylabel('Categoria',color='#3C4048')\n",
    "\n",
    "for i, v in enumerate(Monto):\n",
    "    ax.text(\n",
    "            x = v + 0.8, \n",
    "            y = i  ,\n",
    "            s = v.round(1),\n",
    "            color = '#083AA9',\n",
    "            fontweight='bold')\n",
    "    \n",
    "plt.show()"
   ]
  },
  {
   "cell_type": "markdown",
   "id": "a2346298",
   "metadata": {},
   "source": [
    "### Por cual Canal hay mayor numero de Compras"
   ]
  },
  {
   "cell_type": "code",
   "execution_count": 27,
   "id": "114b3e22",
   "metadata": {},
   "outputs": [
    {
     "data": {
      "image/png": "[encoded data removed]",
      "text/plain": [
       "<Figure size 432x288 with 1 Axes>"
      ]
     },
     "metadata": {
      "needs_background": "light"
     },
     "output_type": "display_data"
    }
   ],
   "source": [
    "# Selecionar las columnas\n",
    "column_canal = [col for col in datos.columns\n",
    "                 if 'Purchases' in col] + ['TotalCompras']\n",
    "\n",
    "# Promedia las categorias\n",
    "df_canal = datos[column_canal].mean().sort_values(ascending=False)\n",
    "\n",
    "#Creamos variable con los valores\n",
    "canal = df_canal.index\n",
    "monto = df_canal.values\n",
    "\n",
    "# Graficamos los datos\n",
    "fig, ax = plt.subplots()\n",
    "\n",
    "ax.barh(canal,monto)\n",
    "\n",
    "\n",
    "# Agregamos las etiquetas\n",
    "for i, v in enumerate(monto):\n",
    "    ax.text(\n",
    "            x = v + 0.3, \n",
    "            y = i  ,\n",
    "            s = v.round(1),\n",
    "            color = '#083AA9',\n",
    "            fontweight='bold')\n",
    "\n",
    "plt.show()"
   ]
  },
  {
   "cell_type": "markdown",
   "id": "c92808f3",
   "metadata": {},
   "source": [
    "### Correlacion entre variables"
   ]
  },
  {
   "cell_type": "code",
   "execution_count": 28,
   "id": "9da0c264",
   "metadata": {},
   "outputs": [
    {
     "data": {
      "image/png": "[encoded data removed]",
      "text/plain": [
       "<Figure size 1440x432 with 2 Axes>"
      ]
     },
     "metadata": {
      "needs_background": "light"
     },
     "output_type": "display_data"
    }
   ],
   "source": [
    "#Seleciona las variables a Mostrar\n",
    "varibles = ['Income', 'Kidhome','Teenhome', 'Recency', 'MntWines', 'MntFruits','MntMeatProducts', 'MntFishProducts',\n",
    "            'MntSweetProducts','MntGoldProds', 'NumDealsPurchases', 'NumWebPurchases','NumCatalogPurchases', \n",
    "            'NumStorePurchases', 'NumWebVisitsMonth']\n",
    "\n",
    "\n",
    "#Creamos las matriz de corelacion\n",
    "Matriz = datos[varibles].corr()\n",
    "\n",
    "#Generar la grafica\n",
    "plt.figure(figsize=(20,6))\n",
    "sn.heatmap(Matriz, annot=True)\n",
    "plt.show()"
   ]
  },
  {
   "cell_type": "markdown",
   "id": "f931df0d",
   "metadata": {},
   "source": [
    "### Concluciones"
   ]
  },
  {
   "cell_type": "markdown",
   "id": "15307158",
   "metadata": {},
   "source": [
    "En la distribucion de los variable Income vemos que su valores se ubican mayor mente entre 40 000 a 75 000, hacia la izquierda\n",
    "\n",
    "\n",
    "Con la variable Year_Birth vemos que el promedio de edades de los clientes se ubican entre 62 y 44 y su media es 52\n",
    "\n",
    "En el caso de la variable income, muestra que los valores se concetran en 3,500 a 7,000, mediana 5,000 la mediana parte los valores casi 2partes iguales, tambien cuenta con valores atipocos que rondan 650,000\n",
    "\n",
    "Deacuerdo al analisis de las variables con la palabra \"Purchases\" y variable Country, podemos concluir que \n",
    " >SP (España) tiene el mayor numero de compras\n",
    " \n",
    " >US (USA) antes de ME (Mexico) segundo menos compras\n",
    " \n",
    "Segun el analisis de las variables con la palabra \"Mnt\" y variable Country, podemos concluir que :\n",
    " >SP (España) tiene el mayor Mnt\n",
    " \n",
    " >US (USA) segundo menos Mnt, al igual que la compra\n",
    " \n",
    "Analizando la viable Marital_Status con repecto a TotalCompras podemos ver que los:\n",
    " >Married su cantidad de compra en la mas alta\n",
    "\n",
    " >Widow son tercero que menos compra\n",
    " \n",
    " >Alone, absurd e YOLO si compra es muy rara. \n",
    " \n",
    "Haciendo un analisis por la varibles Mnt los analizo como categorias:\n",
    " >Veo que la categoria que su gastos promedios mayor es \"Wines\" o vinos un promedio 303\n",
    " \n",
    " >La segunda categoria en importancia es Meat o carnes con un promedio de 167 \n",
    " \n",
    " >Y Fruit,Sweet,Fish y GoldProds su promedio esta entre 26 a 44\n",
    " \n",
    " >Para un total de 605\n",
    "\n",
    "De la misma manera que la anterior el analisis realizado con la variables con palabra \"Num\" lo analice como un canal de compra y conclui:\n",
    "\n",
    " > El mayor canal de compra es la tienda \"Store\" con un promedio de 5.8\n",
    " \n",
    " > Segun canal es la Web con un promedio 4.1 muy cercano a la tienda\n",
    " \n",
    " > Y Deal y Catalog su promedio es de 2\n",
    " \n",
    " >Para un promedio total de 14.9 numero de compras"
   ]
  },
  {
   "cell_type": "markdown",
   "id": "c45b5959",
   "metadata": {},
   "source": [
    "Analisis Realizado por \n",
    "  > Diego Mata Miranda"
   ]
  }
 ],
 "metadata": {
  "kernelspec": {
   "display_name": "Python 3 (ipykernel)",
   "language": "python",
   "name": "python3"
  },
  "language_info": {
   "codemirror_mode": {
    "name": "ipython",
    "version": 3
   },
   "file_extension": ".py",
   "mimetype": "text/x-python",
   "name": "python",
   "nbconvert_exporter": "python",
   "pygments_lexer": "ipython3",
   "version": "3.9.12"
  }
 },
 "nbformat": 4,
 "nbformat_minor": 5
}
